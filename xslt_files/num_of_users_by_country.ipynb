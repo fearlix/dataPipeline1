import xml.etree.ElementTree as ET
import matplotlib.pyplot as plt
from collections import defaultdict

# Parse the XML file
tree = ET.parse('/Users/...)
root = tree.getroot()

# Function to count users by country
def count_users_by_country():
    country_count = defaultdict(int)
    
    # Iterate over all requestors to count users by their country
    for requestor in root.findall(".//requestor"):
        country = requestor.find(".//address/country")
        if country is not None:
            country_name = country.text
            country_count[country_name] += 1
    
    return country_count

# Get the count of users by country
country_data = count_users_by_country()

# Prepare data for plotting
countries = list(country_data.keys())
user_counts = list(country_data.values())

# Plot the data
plt.figure(figsize=(10, 6))
plt.bar(countries, user_counts, color='skyblue')

# Add labels and title
plt.xlabel('Country')
plt.ylabel('Number of Users')
plt.title('Number of Users by Country')

# Rotate the x-axis labels for better readability
plt.xticks(rotation=45)

# Show the chart
plt.tight_layout()
plt.show()
